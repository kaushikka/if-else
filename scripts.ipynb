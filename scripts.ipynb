{
  "nbformat": 4,
  "nbformat_minor": 0,
  "metadata": {
    "colab": {
      "name": "Untitled5.ipynb",
      "provenance": [],
      "toc_visible": true
    },
    "kernelspec": {
      "name": "python3",
      "display_name": "Python 3"
    },
    "language_info": {
      "name": "python"
    }
  },
  "cells": [
    {
      "cell_type": "code",
      "execution_count": 1,
      "metadata": {
        "colab": {
          "base_uri": "https://localhost:8080/"
        },
        "id": "9I-xNRyRmUNF",
        "outputId": "ddd417b2-4967-410b-af40-cce14f9b5c5e"
      },
      "outputs": [
        {
          "output_type": "stream",
          "name": "stdout",
          "text": [
            "Writing script.py\n"
          ]
        }
      ],
      "source": [
        "%%writefile script.py\n",
        "n1=float(input(\"please enter the first value:\"))\n",
        "n2=float(input(\"please enter the seconf value:\"))\n"
      ]
    },
    {
      "cell_type": "code",
      "source": [
        "%%writefile script1.py\n",
        "if n1>n2:\n",
        "        c=n1\n",
        "else:\n",
        "     c=n2\n",
        "     print(\"the larger of two number is-\",c)        "
      ],
      "metadata": {
        "colab": {
          "base_uri": "https://localhost:8080/"
        },
        "id": "Maur2j4-sj4U",
        "outputId": "4a07acab-7d88-4070-adc6-40fe90bd0d64"
      },
      "execution_count": 2,
      "outputs": [
        {
          "output_type": "stream",
          "name": "stdout",
          "text": [
            "Writing script1.py\n"
          ]
        }
      ]
    },
    {
      "cell_type": "code",
      "source": [
        "%%writefile script1.py\n",
        "if n1<n2:\n",
        "        d=n1\n",
        "else:\n",
        "     d=n2\n",
        "     print(\"the smaller of two number is-\",c)        "
      ],
      "metadata": {
        "colab": {
          "base_uri": "https://localhost:8080/"
        },
        "id": "ONMp25Lst28h",
        "outputId": "06e97dfa-5f4d-4c9d-c0e3-bc789af198e7"
      },
      "execution_count": 3,
      "outputs": [
        {
          "output_type": "stream",
          "name": "stdout",
          "text": [
            "Overwriting script1.py\n"
          ]
        }
      ]
    }
  ]
}